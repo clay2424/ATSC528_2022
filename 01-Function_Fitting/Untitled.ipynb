{
 "cells": [
  {
   "cell_type": "code",
   "execution_count": 5,
   "id": "4460dd20-fc92-478d-9407-271edd828cdb",
   "metadata": {},
   "outputs": [
    {
     "name": "stdout",
     "output_type": "stream",
     "text": [
      "Collecting pandas\n",
      "  Downloading pandas-1.5.0-cp310-cp310-macosx_10_9_x86_64.whl (12.0 MB)\n",
      "\u001b[2K     \u001b[90m━━━━━━━━━━━━━━━━━━━━━━━━━━━━━━━━━━━━━━━━\u001b[0m \u001b[32m12.0/12.0 MB\u001b[0m \u001b[31m16.2 MB/s\u001b[0m eta \u001b[36m0:00:00\u001b[0m00:01\u001b[0m00:01\u001b[0m\n",
      "\u001b[?25hRequirement already satisfied: python-dateutil>=2.8.1 in /Users/claywooton/opt/anaconda3/envs/atsc528/lib/python3.10/site-packages (from pandas) (2.8.2)\n",
      "Requirement already satisfied: pytz>=2020.1 in /Users/claywooton/opt/anaconda3/envs/atsc528/lib/python3.10/site-packages (from pandas) (2022.1)\n",
      "Requirement already satisfied: numpy>=1.21.0 in /Users/claywooton/opt/anaconda3/envs/atsc528/lib/python3.10/site-packages (from pandas) (1.23.3)\n",
      "Requirement already satisfied: six>=1.5 in /Users/claywooton/opt/anaconda3/envs/atsc528/lib/python3.10/site-packages (from python-dateutil>=2.8.1->pandas) (1.16.0)\n",
      "Installing collected packages: pandas\n",
      "Successfully installed pandas-1.5.0\n"
     ]
    }
   ],
   "source": [
    "!pip install pandas"
   ]
  },
  {
   "cell_type": "code",
   "execution_count": 6,
   "id": "79cffb7c-f938-4496-a3f6-800619a6f908",
   "metadata": {},
   "outputs": [],
   "source": [
    "import pandas as pd"
   ]
  },
  {
   "cell_type": "code",
   "execution_count": 22,
   "id": "26d7fa5f-4273-49c8-a782-5f3069c746d1",
   "metadata": {},
   "outputs": [],
   "source": [
    "data = pd.read_csv(\"RAOBs_201903131200.txt\")"
   ]
  },
  {
   "cell_type": "code",
   "execution_count": 23,
   "id": "39c74b17-8b9e-4f8c-a8d7-f9184986a58e",
   "metadata": {},
   "outputs": [
    {
     "data": {
      "text/html": [
       "<div>\n",
       "<style scoped>\n",
       "    .dataframe tbody tr th:only-of-type {\n",
       "        vertical-align: middle;\n",
       "    }\n",
       "\n",
       "    .dataframe tbody tr th {\n",
       "        vertical-align: top;\n",
       "    }\n",
       "\n",
       "    .dataframe thead th {\n",
       "        text-align: right;\n",
       "    }\n",
       "</style>\n",
       "<table border=\"1\" class=\"dataframe\">\n",
       "  <thead>\n",
       "    <tr style=\"text-align: right;\">\n",
       "      <th></th>\n",
       "      <th>CWPL</th>\n",
       "      <th>51.47</th>\n",
       "      <th>-90.20</th>\n",
       "      <th>5460.0</th>\n",
       "      <th>285.0</th>\n",
       "      <th>29.0</th>\n",
       "    </tr>\n",
       "  </thead>\n",
       "  <tbody>\n",
       "    <tr>\n",
       "      <th>0</th>\n",
       "      <td>CWQI</td>\n",
       "      <td>43.83</td>\n",
       "      <td>-66.0</td>\n",
       "      <td>5540.0</td>\n",
       "      <td>325.0</td>\n",
       "      <td>41.0</td>\n",
       "    </tr>\n",
       "    <tr>\n",
       "      <th>1</th>\n",
       "      <td>CWSE</td>\n",
       "      <td>53.55</td>\n",
       "      <td>-113.9</td>\n",
       "      <td>5360.0</td>\n",
       "      <td>280.0</td>\n",
       "      <td>12.0</td>\n",
       "    </tr>\n",
       "    <tr>\n",
       "      <th>2</th>\n",
       "      <td>CYAH</td>\n",
       "      <td>53.75</td>\n",
       "      <td>-73.6</td>\n",
       "      <td>5340.0</td>\n",
       "      <td>300.0</td>\n",
       "      <td>70.0</td>\n",
       "    </tr>\n",
       "    <tr>\n",
       "      <th>3</th>\n",
       "      <td>CYBK</td>\n",
       "      <td>64.30</td>\n",
       "      <td>-96.0</td>\n",
       "      <td>5220.0</td>\n",
       "      <td>95.0</td>\n",
       "      <td>17.0</td>\n",
       "    </tr>\n",
       "    <tr>\n",
       "      <th>4</th>\n",
       "      <td>CYCB</td>\n",
       "      <td>69.10</td>\n",
       "      <td>-105.1</td>\n",
       "      <td>5190.0</td>\n",
       "      <td>245.0</td>\n",
       "      <td>32.0</td>\n",
       "    </tr>\n",
       "    <tr>\n",
       "      <th>...</th>\n",
       "      <td>...</td>\n",
       "      <td>...</td>\n",
       "      <td>...</td>\n",
       "      <td>...</td>\n",
       "      <td>...</td>\n",
       "      <td>...</td>\n",
       "    </tr>\n",
       "    <tr>\n",
       "      <th>129</th>\n",
       "      <td>KWAL</td>\n",
       "      <td>37.93</td>\n",
       "      <td>-75.4</td>\n",
       "      <td>5730.0</td>\n",
       "      <td>325.0</td>\n",
       "      <td>44.0</td>\n",
       "    </tr>\n",
       "    <tr>\n",
       "      <th>130</th>\n",
       "      <td>KXKF</td>\n",
       "      <td>32.37</td>\n",
       "      <td>-64.6</td>\n",
       "      <td>5620.0</td>\n",
       "      <td>300.0</td>\n",
       "      <td>46.0</td>\n",
       "    </tr>\n",
       "    <tr>\n",
       "      <th>131</th>\n",
       "      <td>KYAK</td>\n",
       "      <td>59.52</td>\n",
       "      <td>-139.6</td>\n",
       "      <td>5340.0</td>\n",
       "      <td>195.0</td>\n",
       "      <td>22.0</td>\n",
       "    </tr>\n",
       "    <tr>\n",
       "      <th>132</th>\n",
       "      <td>KYMW</td>\n",
       "      <td>46.38</td>\n",
       "      <td>-75.9</td>\n",
       "      <td>5580.0</td>\n",
       "      <td>275.0</td>\n",
       "      <td>38.0</td>\n",
       "    </tr>\n",
       "    <tr>\n",
       "      <th>133</th>\n",
       "      <td>KYXY</td>\n",
       "      <td>60.72</td>\n",
       "      <td>-135.0</td>\n",
       "      <td>5340.0</td>\n",
       "      <td>300.0</td>\n",
       "      <td>17.0</td>\n",
       "    </tr>\n",
       "  </tbody>\n",
       "</table>\n",
       "<p>134 rows × 6 columns</p>\n",
       "</div>"
      ],
      "text/plain": [
       "     CWPL  51.47  -90.20  5460.0  285.0  29.0\n",
       "0    CWQI  43.83   -66.0  5540.0  325.0  41.0\n",
       "1    CWSE  53.55  -113.9  5360.0  280.0  12.0\n",
       "2    CYAH  53.75   -73.6  5340.0  300.0  70.0\n",
       "3    CYBK  64.30   -96.0  5220.0   95.0  17.0\n",
       "4    CYCB  69.10  -105.1  5190.0  245.0  32.0\n",
       "..    ...    ...     ...     ...    ...   ...\n",
       "129  KWAL  37.93   -75.4  5730.0  325.0  44.0\n",
       "130  KXKF  32.37   -64.6  5620.0  300.0  46.0\n",
       "131  KYAK  59.52  -139.6  5340.0  195.0  22.0\n",
       "132  KYMW  46.38   -75.9  5580.0  275.0  38.0\n",
       "133  KYXY  60.72  -135.0  5340.0  300.0  17.0\n",
       "\n",
       "[134 rows x 6 columns]"
      ]
     },
     "execution_count": 23,
     "metadata": {},
     "output_type": "execute_result"
    }
   ],
   "source": [
    "data"
   ]
  },
  {
   "cell_type": "code",
   "execution_count": null,
   "id": "08fe068b-7518-415e-821b-7cfd22152d1b",
   "metadata": {},
   "outputs": [],
   "source": [
    "data.columns = ['Station ID', 'Latitude', 'Longitude', '500-mb Height (mb)', '500-mb Wind Direction', '  ]"
   ]
  }
 ],
 "metadata": {
  "kernelspec": {
   "display_name": "Python [conda env:atsc528] *",
   "language": "python",
   "name": "conda-env-atsc528-py"
  },
  "language_info": {
   "codemirror_mode": {
    "name": "ipython",
    "version": 3
   },
   "file_extension": ".py",
   "mimetype": "text/x-python",
   "name": "python",
   "nbconvert_exporter": "python",
   "pygments_lexer": "ipython3",
   "version": "3.10.4"
  }
 },
 "nbformat": 4,
 "nbformat_minor": 5
}
